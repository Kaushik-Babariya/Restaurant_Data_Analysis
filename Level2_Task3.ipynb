{
 "cells": [
  {
   "cell_type": "code",
   "execution_count": null,
   "id": "750a60eb-2a67-4731-b65d-bda7392ae7d0",
   "metadata": {},
   "outputs": [],
   "source": [
    "import numpy as np\n",
    "import pandas as pd\n",
    "import matplotlib.pyplot as plt\n",
    "import seaborn as sns"
   ]
  },
  {
   "cell_type": "code",
   "execution_count": null,
   "id": "f48b7634-d3bc-4927-bb26-f694bc5ea80f",
   "metadata": {},
   "outputs": [],
   "source": [
    "df  = pd.read_csv('Dataset .csv')\n",
    "#df"
   ]
  },
  {
   "cell_type": "code",
   "execution_count": null,
   "id": "7e5620ad-0f19-47a2-be3a-3339963aa333",
   "metadata": {},
   "outputs": [],
   "source": [
    "data = df.dropna()"
   ]
  },
  {
   "cell_type": "code",
   "execution_count": null,
   "id": "efcc97cb-dc7a-4a3c-844f-b11800145683",
   "metadata": {},
   "outputs": [],
   "source": [
    "data.isnull().sum()"
   ]
  },
  {
   "cell_type": "code",
   "execution_count": null,
   "id": "e93957ce-86fa-4c75-bbae-d90a65cd528b",
   "metadata": {},
   "outputs": [],
   "source": [
    "import folium"
   ]
  },
  {
   "cell_type": "code",
   "execution_count": null,
   "id": "134a0c42-4ef4-4667-b1ec-8c201df843b3",
   "metadata": {},
   "outputs": [],
   "source": [
    "map = [data['Latitude'].iloc[0],data['Longitude'].iloc[0]]\n",
    "restaurantMap = folium.Map(location=map,zoom_start=12)\n",
    "\n",
    "for index,row in data.iterrows():\n",
    "    folium.Marker([row['Latitude'],row['Longitude']],popup=row['Restaurant Name']).add_to(restaurantMap)\n",
    "restaurantMap    "
   ]
  },
  {
   "cell_type": "code",
   "execution_count": null,
   "id": "6ded3cee-53d9-49ae-a9cc-56d3976cd0b8",
   "metadata": {},
   "outputs": [],
   "source": [
    "restaurantMap.save('restaurant_map.html')"
   ]
  },
  {
   "cell_type": "code",
   "execution_count": null,
   "id": "31dc2046-1acd-4778-a862-3019b0823364",
   "metadata": {},
   "outputs": [],
   "source": [
    "from sklearn.cluster import KMeans "
   ]
  },
  {
   "cell_type": "code",
   "execution_count": null,
   "id": "cf8b8bea-189a-410d-ad86-85fb439b8835",
   "metadata": {},
   "outputs": [],
   "source": [
    "coordinates = data[['Latitude','Longitude']]\n",
    "# num_clusters = 3\n",
    "kmeans = KMeans(n_clusters=3,random_state=42)\n",
    "data['Cluster'] = kmeans.fit_predict(coordinates)\n",
    "map_center = [data['Latitude'].iloc[0],data['Longitude'].iloc[0]]\n",
    "restaurant_map = folium.Map(location=map_center,zoom_start=12)\n",
    "\n",
    "for _,row in data.iterrows():\n",
    "    color = 'red' if row['Cluster'] == 0 else 'blue' if row['Cluster'] == 1 else 'green'\n",
    "    folium.Marker([row['Latitude'],row['Longitude']],popup=row['Restaurant Name'],icon=folium.Icon(color=color)).add_to(restaurant_map)\n",
    "restaurant_map"
   ]
  },
  {
   "cell_type": "code",
   "execution_count": null,
   "id": "15a94aef-44b0-41ca-8cec-d38ed6df36ae",
   "metadata": {},
   "outputs": [],
   "source": []
  },
  {
   "cell_type": "code",
   "execution_count": null,
   "id": "b92ddd8c-505c-4696-883a-10cd1ac4b165",
   "metadata": {},
   "outputs": [],
   "source": []
  }
 ],
 "metadata": {
  "kernelspec": {
   "display_name": "Python 3 (ipykernel)",
   "language": "python",
   "name": "python3"
  },
  "language_info": {
   "codemirror_mode": {
    "name": "ipython",
    "version": 3
   },
   "file_extension": ".py",
   "mimetype": "text/x-python",
   "name": "python",
   "nbconvert_exporter": "python",
   "pygments_lexer": "ipython3",
   "version": "3.11.9"
  }
 },
 "nbformat": 4,
 "nbformat_minor": 5
}
