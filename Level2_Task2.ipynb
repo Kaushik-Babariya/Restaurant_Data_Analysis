{
 "cells": [
  {
   "cell_type": "code",
   "execution_count": 13,
   "id": "6000760d-9c84-4500-9e49-dcf3b62ccd8e",
   "metadata": {},
   "outputs": [],
   "source": [
    "import numpy as np\n",
    "import pandas as pd\n",
    "import matplotlib.pyplot as plt\n",
    "import seaborn as sns"
   ]
  },
  {
   "cell_type": "code",
   "execution_count": 14,
   "id": "9f6f9339-ffc8-40fd-9328-3f801d565368",
   "metadata": {},
   "outputs": [],
   "source": [
    "df  = pd.read_csv('Dataset .csv')\n",
    "#df"
   ]
  },
  {
   "cell_type": "code",
   "execution_count": 15,
   "id": "134656dd-f4e8-4e52-a30b-ddd8faf0eff3",
   "metadata": {},
   "outputs": [],
   "source": [
    "data = df.dropna()"
   ]
  },
  {
   "cell_type": "code",
   "execution_count": 16,
   "id": "4672d00a-a1cc-40e0-a30a-8746a05ca33b",
   "metadata": {},
   "outputs": [
    {
     "data": {
      "text/plain": [
       "Restaurant ID           0\n",
       "Restaurant Name         0\n",
       "Country Code            0\n",
       "City                    0\n",
       "Address                 0\n",
       "Locality                0\n",
       "Locality Verbose        0\n",
       "Longitude               0\n",
       "Latitude                0\n",
       "Cuisines                0\n",
       "Average Cost for two    0\n",
       "Currency                0\n",
       "Has Table booking       0\n",
       "Has Online delivery     0\n",
       "Is delivering now       0\n",
       "Switch to order menu    0\n",
       "Price range             0\n",
       "Aggregate rating        0\n",
       "Rating color            0\n",
       "Rating text             0\n",
       "Votes                   0\n",
       "dtype: int64"
      ]
     },
     "execution_count": 16,
     "metadata": {},
     "output_type": "execute_result"
    }
   ],
   "source": [
    "data.isnull().sum()"
   ]
  },
  {
   "cell_type": "code",
   "execution_count": 17,
   "id": "7f89ed91-029a-48be-8b98-ea55799b0109",
   "metadata": {},
   "outputs": [
    {
     "data": {
      "text/plain": [
       "Cuisines\n",
       "North Indian     2992\n",
       " Chinese         1880\n",
       " Fast Food       1314\n",
       " North Indian     968\n",
       "Chinese           855\n",
       " Mughlai          780\n",
       "Fast Food         672\n",
       "Bakery            621\n",
       "Cafe              617\n",
       " Italian          530\n",
       "Name: count, dtype: int64"
      ]
     },
     "execution_count": 17,
     "metadata": {},
     "output_type": "execute_result"
    }
   ],
   "source": [
    "cuisines = data['Cuisines'].str.split(',').explode()\n",
    "top_cuisines = cuisines.value_counts()\n",
    "top_cuisines.head(10)"
   ]
  },
  {
   "cell_type": "code",
   "execution_count": 26,
   "id": "d2ba214e-9a3b-4ffd-8878-3f20e482628d",
   "metadata": {},
   "outputs": [
    {
     "name": "stdout",
     "output_type": "stream",
     "text": [
      "[False  True  True ...  True False False]\n",
      "[False False False ... False False False]\n"
     ]
    }
   ],
   "source": [
    "print(cuisines.index.duplicated())\n",
    "print(data['Aggregate rating'].index.duplicated())\n"
   ]
  },
  {
   "cell_type": "code",
   "execution_count": 28,
   "id": "834ad441-c199-443c-9577-e6ed926fd828",
   "metadata": {},
   "outputs": [],
   "source": [
    "cuisines = cuisines[~cuisines.index.duplicated()]"
   ]
  },
  {
   "cell_type": "code",
   "execution_count": 29,
   "id": "92947420-9817-4b22-9065-9055a10c7775",
   "metadata": {},
   "outputs": [],
   "source": [
    "cuisines = cuisines.reset_index(drop=True)"
   ]
  },
  {
   "cell_type": "code",
   "execution_count": 30,
   "id": "79564754-cd82-4498-af60-6ca5171d967c",
   "metadata": {},
   "outputs": [
    {
     "name": "stdout",
     "output_type": "stream",
     "text": [
      "[False False False ... False False False]\n"
     ]
    }
   ],
   "source": [
    "print(cuisines.index.duplicated())"
   ]
  },
  {
   "cell_type": "code",
   "execution_count": 37,
   "id": "b05c6f07-51ae-4707-9dac-54f0a5092ba7",
   "metadata": {},
   "outputs": [
    {
     "data": {
      "text/plain": [
       "Cuisine Combination\n",
       "Pub Food         4.90\n",
       "Turkish Pizza    4.90\n",
       "Taiwanese        4.80\n",
       "Kiwi             4.80\n",
       "Asian Fusion     4.75\n",
       "Name: Aggregate Rating, dtype: float64"
      ]
     },
     "execution_count": 37,
     "metadata": {},
     "output_type": "execute_result"
    }
   ],
   "source": [
    "cuisine_rating = pd.DataFrame({'Cuisine Combination':cuisines, 'Aggregate Rating':data['Aggregate rating']})\n",
    "cuisine_rating = cuisine_rating.dropna()\n",
    "avg_rating_byCuisine = cuisine_rating.groupby('Cuisine Combination')['Aggregate Rating'].mean()\n",
    "top_high_rated_cuisine = avg_rating_byCuisine.nlargest()\n",
    "top_high_rated_cuisine"
   ]
  },
  {
   "cell_type": "code",
   "execution_count": null,
   "id": "f188060a-a123-4baa-8df3-8c436c2ac9ef",
   "metadata": {},
   "outputs": [],
   "source": []
  }
 ],
 "metadata": {
  "kernelspec": {
   "display_name": "Python 3 (ipykernel)",
   "language": "python",
   "name": "python3"
  },
  "language_info": {
   "codemirror_mode": {
    "name": "ipython",
    "version": 3
   },
   "file_extension": ".py",
   "mimetype": "text/x-python",
   "name": "python",
   "nbconvert_exporter": "python",
   "pygments_lexer": "ipython3",
   "version": "3.11.9"
  }
 },
 "nbformat": 4,
 "nbformat_minor": 5
}
