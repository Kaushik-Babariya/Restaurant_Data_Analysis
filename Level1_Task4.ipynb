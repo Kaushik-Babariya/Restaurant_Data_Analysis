{
 "cells": [
  {
   "cell_type": "code",
   "execution_count": 1,
   "id": "4f95f6e3-04ef-468a-b46a-398cf95a3baa",
   "metadata": {},
   "outputs": [],
   "source": [
    "import numpy as np\n",
    "import pandas as pd\n",
    "import matplotlib.pyplot as plt\n",
    "import seaborn as sns"
   ]
  },
  {
   "cell_type": "code",
   "execution_count": 2,
   "id": "80d99c72-d60f-4b68-8546-093c8cd83cdc",
   "metadata": {},
   "outputs": [],
   "source": [
    "df = pd.read_csv('Dataset .csv')\n",
    "#df"
   ]
  },
  {
   "cell_type": "code",
   "execution_count": 3,
   "id": "b85d4028-af3a-4a84-a2bf-737504623aff",
   "metadata": {},
   "outputs": [],
   "source": [
    "data = df.dropna()"
   ]
  },
  {
   "cell_type": "code",
   "execution_count": 4,
   "id": "05650594-9d85-4657-be77-dafdd4f7ce26",
   "metadata": {},
   "outputs": [
    {
     "data": {
      "text/plain": [
       "Restaurant ID           0\n",
       "Restaurant Name         0\n",
       "Country Code            0\n",
       "City                    0\n",
       "Address                 0\n",
       "Locality                0\n",
       "Locality Verbose        0\n",
       "Longitude               0\n",
       "Latitude                0\n",
       "Cuisines                0\n",
       "Average Cost for two    0\n",
       "Currency                0\n",
       "Has Table booking       0\n",
       "Has Online delivery     0\n",
       "Is delivering now       0\n",
       "Switch to order menu    0\n",
       "Price range             0\n",
       "Aggregate rating        0\n",
       "Rating color            0\n",
       "Rating text             0\n",
       "Votes                   0\n",
       "dtype: int64"
      ]
     },
     "execution_count": 4,
     "metadata": {},
     "output_type": "execute_result"
    }
   ],
   "source": [
    "data.isnull().sum()"
   ]
  },
  {
   "cell_type": "code",
   "execution_count": 6,
   "id": "9668f556-1f01-4080-8eec-b10c1ab669c3",
   "metadata": {},
   "outputs": [
    {
     "data": {
      "text/plain": [
       "2451"
      ]
     },
     "execution_count": 6,
     "metadata": {},
     "output_type": "execute_result"
    }
   ],
   "source": [
    "online_delivery_count = (data['Has Online delivery']=='Yes').sum()\n",
    "online_delivery_count"
   ]
  },
  {
   "cell_type": "code",
   "execution_count": 9,
   "id": "d368bfde-24aa-40e8-b8b5-42ee6312f00e",
   "metadata": {},
   "outputs": [
    {
     "name": "stdout",
     "output_type": "stream",
     "text": [
      "The percentage of restaurants that offer online delivery :\n"
     ]
    },
    {
     "data": {
      "text/plain": [
       "25.686438901697755"
      ]
     },
     "execution_count": 9,
     "metadata": {},
     "output_type": "execute_result"
    }
   ],
   "source": [
    "print('The percentage of restaurants that offer online delivery :')\n",
    "percentage_delivery = (online_delivery_count/len(data))*100\n",
    "percentage_delivery"
   ]
  },
  {
   "cell_type": "code",
   "execution_count": 11,
   "id": "2b6c3ef4-9e1c-40a0-92ff-df27e910c3a1",
   "metadata": {},
   "outputs": [
    {
     "name": "stdout",
     "output_type": "stream",
     "text": [
      "The average ratings of restaurants with and without online delivery :\n"
     ]
    },
    {
     "data": {
      "text/plain": [
       "Has Online delivery\n",
       "No     2.463517\n",
       "Yes    3.248837\n",
       "Name: Aggregate rating, dtype: float64"
      ]
     },
     "execution_count": 11,
     "metadata": {},
     "output_type": "execute_result"
    }
   ],
   "source": [
    "print('The average ratings of restaurants with and without online delivery :')\n",
    "average_rating_by_delivery = data.groupby('Has Online delivery')['Aggregate rating'].mean()\n",
    "average_rating_by_delivery"
   ]
  },
  {
   "cell_type": "code",
   "execution_count": 26,
   "id": "44555e47-57e0-4cc5-8d87-09d4418d4b33",
   "metadata": {},
   "outputs": [
    {
     "data": {
      "image/png": "[encoded data removed]",
      "text/plain": [
       "<Figure size 500x500 with 1 Axes>"
      ]
     },
     "metadata": {},
     "output_type": "display_data"
    }
   ],
   "source": [
    "plt.figure(figsize=(5,5))\n",
    "plt.bar(average_rating_by_delivery.index,average_rating_by_delivery.values)\n",
    "plt.xlabel('Has online delivery')\n",
    "plt.ylabel('Average rating of online delivery')\n",
    "plt.show()"
   ]
  },
  {
   "cell_type": "code",
   "execution_count": null,
   "id": "61b84266-94cf-4969-8114-d3cbceab51ef",
   "metadata": {},
   "outputs": [],
   "source": []
  }
 ],
 "metadata": {
  "kernelspec": {
   "display_name": "Python 3 (ipykernel)",
   "language": "python",
   "name": "python3"
  },
  "language_info": {
   "codemirror_mode": {
    "name": "ipython",
    "version": 3
   },
   "file_extension": ".py",
   "mimetype": "text/x-python",
   "name": "python",
   "nbconvert_exporter": "python",
   "pygments_lexer": "ipython3",
   "version": "3.11.9"
  }
 },
 "nbformat": 4,
 "nbformat_minor": 5
}
